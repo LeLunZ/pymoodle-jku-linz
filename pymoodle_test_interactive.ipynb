{
 "cells": [
  {
   "cell_type": "code",
   "execution_count": 1,
   "metadata": {
    "collapsed": true,
    "pycharm": {
     "name": "#%%\n"
    }
   },
   "outputs": [
    {
     "name": "stdout",
     "output_type": "stream",
     "text": [
      "FYdqkAPbiv\n"
     ]
    }
   ],
   "source": [
    "import urllib3\n",
    "import urllib\n",
    "from pymoodle_jku.utils.login import login, relogin\n",
    "import json\n",
    "\n",
    "client = login(None)\n",
    "print(client.sesskey)"
   ]
  },
  {
   "cell_type": "code",
   "execution_count": 4,
   "metadata": {
    "pycharm": {
     "name": "#%%\n"
    }
   },
   "outputs": [],
   "source": [
    "def recursive_urlencode(data):\n",
    "    \"\"\"URL-encode a multidimensional dictionary.\n",
    "    @param data: the data to be encoded\n",
    "    @returns: the url encoded data\n",
    "    \"\"\"\n",
    "\n",
    "    def recursion(data, base=[]):\n",
    "        pairs = []\n",
    "\n",
    "        for key, value in data.items():\n",
    "            new_base = base + [key]\n",
    "            if hasattr(value, 'values'):\n",
    "                pairs += recursion(value, new_base)\n",
    "            else:\n",
    "                new_pair = None\n",
    "                if len(new_base) > 1:\n",
    "                    first = urllib.parse.quote(new_base.pop(0))\n",
    "                    rest = map(lambda x: urllib.parse.quote(x), new_base)\n",
    "                    new_pair = '%s[%s]=%s' % (first, ']['.join(rest), urllib.parse.quote(str(value)))\n",
    "                else:\n",
    "                    new_pair = '%s=%s' % (urllib.parse.quote(str(key)), urllib.parse.quote(str(value)))\n",
    "                pairs.append(new_pair)\n",
    "        return pairs\n",
    "\n",
    "    return '&'.join(recursion(data))\n",
    "\n",
    "@relogin\n",
    "def make_request(client_, args):\n",
    "    headers = {'Content-type': 'application/x-www-form-urlencoded'}\n",
    "\n",
    "    courses = list(client_.courses(load_pages=False))[:2]\n",
    "\n",
    "    courseids = {}\n",
    "    extradata = {}\n",
    "    for index, course in enumerate(courses):\n",
    "        courseids.update({str(index): course.id})\n",
    "\n",
    "    extradata.update({'courseids': courseids})\n",
    "\n",
    "    data = {'moodlewssettingfilter': 'true', 'moodlewssettingfileurl': 'true'}\n",
    "    data.update(extradata)\n",
    "\n",
    "    data.update({'wsfunction': 'mod_assign_get_assignments', 'wstoken': client_.sesskey})\n",
    "\n",
    "    data = recursive_urlencode(data)\n",
    "\n",
    "    response = client_.session.post(\n",
    "        f'https://moodle.jku.at/jku/webservice/rest/server.php?moodlewsrestformat=json&wsfunction=mod_assign_get_assignments',\n",
    "        data=data,\n",
    "        headers=headers)\n",
    "    return response"
   ]
  },
  {
   "cell_type": "code",
   "execution_count": 6,
   "metadata": {
    "pycharm": {
     "name": "#%%\n"
    }
   },
   "outputs": [],
   "source": [
    "response = make_request(client, None)\n"
   ]
  }
 ],
 "metadata": {
  "kernelspec": {
   "display_name": "Python 3",
   "language": "python",
   "name": "python3"
  },
  "language_info": {
   "codemirror_mode": {
    "name": "ipython",
    "version": 3
   },
   "file_extension": ".py",
   "mimetype": "text/x-python",
   "name": "python",
   "nbconvert_exporter": "python",
   "pygments_lexer": "ipython3",
   "version": "3.8.2"
  }
 },
 "nbformat": 4,
 "nbformat_minor": 1
}